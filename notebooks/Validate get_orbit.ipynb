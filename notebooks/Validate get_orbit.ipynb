{
 "cells": [
  {
   "cell_type": "markdown",
   "id": "21e6e61e-3e34-4933-8b57-8097db7fd146",
   "metadata": {},
   "source": [
    "## Purpose\n",
    "\n",
    "Reference for adding SOHO position information to LASCO C3 Helioviewer images: https://docs.sunpy.org/en/latest/generated/gallery/units_and_coordinates/getting_lasco_observer_location.html.\n",
    "\n",
    "### HEC coordinates\n",
    "\n",
    "From From https://soho.nascom.nasa.gov/data/ancillary/. See SPACECRAFT ORBIT COORDINATES.\n",
    "\n",
    "The Heliocentric Ecliptic coordinate system is defined as follows: the origin is Sun centered, with the Z axis parallel to the ecliptic pole with positive north of the ecliptic plane; the X-Y plane lies in the ecliptic plane and the X axis points towards the first point of Aries; the Y axis completes a right-handed orthogonal coordinate system.\n",
    "\n",
    "\n",
    "### Heliocentric Aries Ecliptic (Mean) coordinates (`SunPy` HAE or HEC, see https://docs.sunpy.org/en/stable/reference/coordinates/index.html)\n",
    "\n",
    "From https://docs.astropy.org/en/stable/api/astropy.coordinates.HeliocentricMeanEcliptic.html#astropy.coordinates.HeliocentricMeanEcliptic.\n",
    "\n",
    "Heliocentric mean ecliptic coordinates. These origin of the coordinates are the center of the sun, with the x axis pointing in the direction of the mean (not true) equinox as at the time specified by the equinox attribute (as seen from Earth), and the xy-plane in the plane of the ecliptic for that date.\n",
    "\n",
    "\n",
    "### GCI coordinates \n",
    "\n",
    "From https://soho.nascom.nasa.gov/data/ancillary/. See SPACECRAFT ORBIT COORDINATES.\n",
    "\n",
    "The GCI coordinate system is defined as follows: Earth centered, where the X axis points from the Earth towards the first point of Aries (the position of the Sun at the vernal equinox). This direction is the intersection of the Earth's equatorial plane and the ecliptic plane --- thus the X axis lies in both planes. The Z axis is parallel to the rotation axis of the Earth and the Y axis completes a right-handed orthogonal coordinate system. As mentioned above, the X axis is the direction of the mean vernal equinox of J2000. The Z axis is also defined as being normal to the mean Earth equator of J2000.\n",
    "\n",
    "\n",
    "### Geocentric Earth Equatorial coordinates (GEI in `SunPy`)\n",
    "\n",
    "From https://docs.sunpy.org/en/stable/generated/api/sunpy.coordinates.frames.GeocentricEarthEquatorial.html#sunpy.coordinates.frames.GeocentricEarthEquatorial.\n",
    "\n",
    "A coordinate or frame in the Geocentric Earth Equatorial (GEI) system.\n",
    "\n",
    "- The origin is the center of the Earth.\n",
    "- The Z-axis (+90 degrees latitude) is aligned with the Earth’s north pole.\n",
    "- The X-axis (0 degrees longitude and 0 degrees latitude) is aligned with the mean (not true) vernal equinox.\n",
    "\n",
    "\n",
    "### Heliographic Carrington coordinates (HGC in `SunPy`)\n",
    "\n",
    "From https://docs.sunpy.org/en/stable/generated/api/sunpy.coordinates.frames.HeliographicCarrington.html#sunpy.coordinates.frames.HeliographicCarrington.\n",
    "\n",
    "A coordinate or frame in the Carrington Heliographic (HGC) system.\n",
    "- The origin is the center of the Sun.\n",
    "- The Z-axis (+90 degrees latitude) is aligned with the Sun’s north pole.\n",
    "- The X-axis and Y-axis rotate with a period of 25.38 days.\n",
    "\n",
    "This system differs from Stonyhurst Heliographic (HGS) in its definition of longitude. This longitude is an “apparent” longitude because it takes into account the time it takes for light to travel from the Sun’s surface to the observer (see Calculating Carrington longitude). Thus, the observer needs to be specified to be able to transform to any other coordinate frame.\n",
    "\n",
    "\n",
    "### Heliographic Stonyhurst coordinates (`HGS` in `SunPy`)\n",
    "\n",
    "A coordinate or frame in the Stonyhurst Heliographic (HGS) system.\n",
    "- The origin is the center of the Sun.\n",
    "- The Z-axis (+90 degrees latitude) is aligned with the Sun’s north pole.\n",
    "- The X-axis (0 degrees longitude and 0 degrees latitude) is aligned with the projection of the Sun-Earth line onto the Sun’s equatorial plane.\n",
    "\n",
    "This system is also know as the Heliocentric Earth Equatorial (HEEQ) system when represented using Cartesian components."
   ]
  },
  {
   "cell_type": "code",
   "execution_count": 1,
   "id": "3de79cd6-375a-4fd7-a212-82541289ca16",
   "metadata": {},
   "outputs": [],
   "source": [
    "import dataclasses\n",
    "from dataclasses import dataclass\n",
    "from datetime import datetime\n",
    "\n",
    "import numpy as np\n",
    "import astropy.units as u\n",
    "from astropy.coordinates import HeliocentricMeanEcliptic, HCRS\n",
    "from sunpy.coordinates.frames import GeocentricEarthEquatorial, GeocentricSolarEcliptic, GeocentricSolarMagnetospheric, HeliographicCarrington, HeliographicStonyhurst\n",
    "from sunpy.coordinates.ephemeris import get_horizons_coord"
   ]
  },
  {
   "cell_type": "code",
   "execution_count": 2,
   "id": "99d8259d-cde8-44d0-af69-dd1f509a834a",
   "metadata": {},
   "outputs": [],
   "source": [
    "# Extracted from SO_OR_PRE_20080201_V04.DAT\n",
    "\n",
    "DAT_LINE = \"01-Feb-2008 20:50:00.000 2008  32 75000000     1337759.22141    -824922.22264    -479016.13027   0.0838840   0.0742209   0.0061811    1600807.58574     352939.24964    -111363.46095   0.0765737  -0.2187542  -0.0238535    1600807.58574     366972.47487      47949.31764   0.0765737  -0.5501509   2.6556334   99132463.14094 -100093435.80465  -43394334.38088  -97794703.91953  108147813.77940    -112712.32332 -22.4595017 -20.0711358  -0.0237128 2066   4.564 -0.105 2066   4.562 -0.106\"\n",
    "# DAT_LINE = \"09-May-2008 20:50:00.000 2008 130 75000000      959534.59929     744462.20031     432054.46248  -0.3899428   0.3233711   0.1572567    1273307.05270    -173876.74223     100288.09260  -0.0142633   0.2811878   0.0156643    1273307.05270    -200055.30662      16391.98893  -0.0142633   0.1516806  -1.0357047   98157853.30651  105352743.94729   45673696.82973  -97198318.70722 -113972313.87727     102389.46974  21.7794013 -19.1048280   0.0168796 2069   0.856 -0.056 2069   0.857 -0.055\"\n",
    "# DAT_LINE = \"23-Mar-2008 15:00:00.000 2008  83 54000000     1513698.98474    -464210.01966    -271168.20176   0.0266075   0.1582179   0.1126081    1481059.99203    -618590.91774     -64143.03467  -0.0865446  -0.1084111   0.0403897    1481059.99203    -566288.52246    -257072.67793  -0.0865446   2.8019642  -6.4229566  148893626.80979    7745041.16391    3356980.41582 -147379927.82505   -8975035.34234     -63308.68702   1.2224660 -29.6512619   0.0415401 2068   5.461 -0.121 2068   5.465 -0.121\""
   ]
  },
  {
   "cell_type": "code",
   "execution_count": 3,
   "id": "a247046c-9b68-448d-aa46-270f498632eb",
   "metadata": {},
   "outputs": [],
   "source": [
    "def __post_init__(self):\n",
    "    # https://stackoverflow.com/questions/54863458/force-type-conversion-in-python-dataclass-init-method\n",
    "    for field in dataclasses.fields(self):\n",
    "        value = getattr(self, field.name)\n",
    "        if not isinstance(value, field.type):\n",
    "            setattr(self, field.name, field.type(value))\n",
    "            # raise ValueError(f'Expected {field.name} to be {field.type}, '\n",
    "                             # f'got {repr(value)}')\n",
    "\n",
    "\n",
    "def autoconvert_dataclass(x):\n",
    "    x.__post_init__ = __post_init__\n",
    "    y = dataclass(x)\n",
    "    return y"
   ]
  },
  {
   "cell_type": "code",
   "execution_count": 4,
   "id": "973529c2-6533-4046-887c-949300808f2f",
   "metadata": {},
   "outputs": [],
   "source": [
    "@autoconvert_dataclass\n",
    "class DAT:\n",
    "    date: str\n",
    "    time: str\n",
    "    year: int\n",
    "    doy: int\n",
    "    ellapsed_ms: int\n",
    "    gci_x_km: float\n",
    "    gci_y_km: float\n",
    "    gci_z_km: float\n",
    "    gci_vx_kms: float\n",
    "    gci_vy_kms: float\n",
    "    gci_vz_kms: float\n",
    "    gse_x_km: float\n",
    "    gse_y_km: float\n",
    "    gse_z_km: float\n",
    "    gse_vx_kms: float\n",
    "    gse_vy_kms: float\n",
    "    gse_vz_kms: float\n",
    "    gsm_x_km: float\n",
    "    gsm_y_km: float\n",
    "    gsm_z_km: float\n",
    "    gsm_vx_kms: float\n",
    "    gsm_vy_kms: float\n",
    "    gsm_vz_kms: float\n",
    "    gci_sun_vector_x_km: float\n",
    "    gci_sun_vector_y_km: float\n",
    "    gci_sun_vector_z_km: float\n",
    "    hec_x_km: float\n",
    "    hec_y_km: float\n",
    "    hec_z_km: float\n",
    "    hec_vx_kms: float\n",
    "    hec_vy_kms: float\n",
    "    hec_vz_kms: float\n",
    "    cr_earth: int\n",
    "    heliographic_lon_earth: float\n",
    "    heliographic_lat_earth: float\n",
    "    cr_soho: int\n",
    "    heliographic_lon_soho: float\n",
    "    heliographic_lat_soho: float"
   ]
  },
  {
   "cell_type": "code",
   "execution_count": 5,
   "id": "f8a10836-42e6-49a5-ba25-c1edbe9d0f10",
   "metadata": {},
   "outputs": [
    {
     "data": {
      "text/plain": [
       "DAT(date='01-Feb-2008', time='20:50:00.000', year=2008, doy=32, ellapsed_ms=75000000, gci_x_km=1337759.22141, gci_y_km=-824922.22264, gci_z_km=-479016.13027, gci_vx_kms=0.083884, gci_vy_kms=0.0742209, gci_vz_kms=0.0061811, gse_x_km=1600807.58574, gse_y_km=352939.24964, gse_z_km=-111363.46095, gse_vx_kms=0.0765737, gse_vy_kms=-0.2187542, gse_vz_kms=-0.0238535, gsm_x_km=1600807.58574, gsm_y_km=366972.47487, gsm_z_km=47949.31764, gsm_vx_kms=0.0765737, gsm_vy_kms=-0.5501509, gsm_vz_kms=2.6556334, gci_sun_vector_x_km=99132463.14094, gci_sun_vector_y_km=-100093435.80465, gci_sun_vector_z_km=-43394334.38088, hec_x_km=-97794703.91953, hec_y_km=108147813.7794, hec_z_km=-112712.32332, hec_vx_kms=-22.4595017, hec_vy_kms=-20.0711358, hec_vz_kms=-0.0237128, cr_earth=2066, heliographic_lon_earth=4.564, heliographic_lat_earth=-0.105, cr_soho=2066, heliographic_lon_soho=4.562, heliographic_lat_soho=-0.106)"
      ]
     },
     "execution_count": 5,
     "metadata": {},
     "output_type": "execute_result"
    }
   ],
   "source": [
    "dat = DAT(*DAT_LINE.split())\n",
    "dat"
   ]
  },
  {
   "cell_type": "code",
   "execution_count": 6,
   "id": "b18f8098-b9c8-4ec0-a899-44f423ec9548",
   "metadata": {},
   "outputs": [
    {
     "data": {
      "text/plain": [
       "'2008-02-01T20:50:00.000'"
      ]
     },
     "execution_count": 6,
     "metadata": {},
     "output_type": "execute_result"
    }
   ],
   "source": [
    "DATE_OBS = datetime.strptime(dat.date, '%d-%b-%Y').strftime('%Y-%m-%d') + 'T' + dat.time\n",
    "DATE_OBS"
   ]
  },
  {
   "cell_type": "code",
   "execution_count": 7,
   "id": "72ba2e8e-0e5a-4492-a38c-cea8509670de",
   "metadata": {},
   "outputs": [
    {
     "data": {
      "text/plain": [
       "<HeliocentricMeanEcliptic Coordinate (equinox=J2000.000, obstime=2008-02-01T20:50:00.000): (x, y, z) in km\n",
       "    (-97794703.91953, 1.08147814e+08, -112712.32332)>"
      ]
     },
     "execution_count": 7,
     "metadata": {},
     "output_type": "execute_result"
    }
   ],
   "source": [
    "soho_hae = HeliocentricMeanEcliptic(x=dat.hec_x_km * u.km, y=dat.hec_y_km * u.km, z=dat.hec_z_km * u.km,\n",
    "                                    representation_type='cartesian', obstime=DATE_OBS)\n",
    "soho_hae"
   ]
  },
  {
   "cell_type": "code",
   "execution_count": 8,
   "id": "d2993480-cd8e-414f-81b6-a4add1d39c9c",
   "metadata": {},
   "outputs": [
    {
     "data": {
      "text/plain": [
       "(1337759.22141, -824922.22264, -479016.13027)"
      ]
     },
     "execution_count": 8,
     "metadata": {},
     "output_type": "execute_result"
    }
   ],
   "source": [
    "dat.gci_x_km, dat.gci_y_km, dat.gci_z_km"
   ]
  },
  {
   "cell_type": "code",
   "execution_count": 9,
   "id": "359812c9-58c7-4aa6-8b6e-834cc2dd7664",
   "metadata": {},
   "outputs": [
    {
     "data": {
      "text/plain": [
       "<CartesianRepresentation (x, y, z) in km\n",
       "    (1337761.60758917, -824907.72384285, -479041.75376757)>"
      ]
     },
     "execution_count": 9,
     "metadata": {},
     "output_type": "execute_result"
    }
   ],
   "source": [
    "soho_hae.transform_to(GeocentricEarthEquatorial(obstime=DATE_OBS)).cartesian"
   ]
  },
  {
   "cell_type": "markdown",
   "id": "6a367c2e-a044-4716-867f-f638ea13d64d",
   "metadata": {},
   "source": [
    "### Note that GCI in `.DAT` files and `GeocentricEarthEquatorial` coordinates are equivalent as well as `HEC` and `HeliocentricMeanEcliptic` coordinates"
   ]
  },
  {
   "cell_type": "code",
   "execution_count": 10,
   "id": "41de466e-1379-4cc7-b114-a10a3fbc5d74",
   "metadata": {},
   "outputs": [
    {
     "data": {
      "text/plain": [
       "<CartesianRepresentation (x, y, z) in km\n",
       "    (1600806.90329924, 352943.08061069, -111392.61050122)>"
      ]
     },
     "execution_count": 10,
     "metadata": {},
     "output_type": "execute_result"
    }
   ],
   "source": [
    "soho_hae.transform_to(GeocentricSolarEcliptic(obstime=DATE_OBS)).cartesian"
   ]
  },
  {
   "cell_type": "code",
   "execution_count": 11,
   "id": "8e89b3ae-5dd3-47db-9225-f183d6ca0c3f",
   "metadata": {},
   "outputs": [
    {
     "data": {
      "text/plain": [
       "(1600807.58574, 352939.24964, -111363.46095)"
      ]
     },
     "execution_count": 11,
     "metadata": {},
     "output_type": "execute_result"
    }
   ],
   "source": [
    "dat.gse_x_km, dat.gse_y_km, dat.gse_z_km"
   ]
  },
  {
   "cell_type": "markdown",
   "id": "44275307-b730-4052-8019-e120791f1d81",
   "metadata": {},
   "source": [
    "### Note that GCI in `.DAT` files and `GeocentricSolarEcliptic` coordinates"
   ]
  },
  {
   "cell_type": "code",
   "execution_count": 12,
   "id": "2884f6d3-1f94-49c6-9ab1-51c73fe9b752",
   "metadata": {},
   "outputs": [
    {
     "data": {
      "text/plain": [
       "<CartesianRepresentation (x, y, z) in km\n",
       "    (1600805.916001, 367029.48640008, 47640.83182523)>"
      ]
     },
     "execution_count": 12,
     "metadata": {},
     "output_type": "execute_result"
    }
   ],
   "source": [
    "soho_hae.transform_to(GeocentricSolarMagnetospheric(obstime=DATE_OBS)).cartesian"
   ]
  },
  {
   "cell_type": "code",
   "execution_count": 13,
   "id": "0e2b2607-591b-47f4-884a-89a9ec7d85ce",
   "metadata": {},
   "outputs": [
    {
     "data": {
      "text/plain": [
       "(1600807.58574, 366972.47487, 47949.31764)"
      ]
     },
     "execution_count": 13,
     "metadata": {},
     "output_type": "execute_result"
    }
   ],
   "source": [
    "dat.gsm_x_km, dat.gsm_y_km, dat.gsm_z_km"
   ]
  },
  {
   "cell_type": "markdown",
   "id": "b03af26a-45ae-4515-bfb3-7c7a46f26405",
   "metadata": {},
   "source": [
    "### Note that GSM in `.DAT` files and `GeocentricSolarMagnetic` coordinates"
   ]
  },
  {
   "cell_type": "code",
   "execution_count": 14,
   "id": "9035056d-ca24-4b7c-afb0-5748a3dc83f8",
   "metadata": {},
   "outputs": [
    {
     "name": "stdout",
     "output_type": "stream",
     "text": [
      "INFO: Obtained JPL HORIZONS location for SOHO (spacecraft) (-21) [sunpy.coordinates.ephemeris]\n"
     ]
    }
   ],
   "source": [
    "soho = get_horizons_coord('SOHO', DATE_OBS)"
   ]
  },
  {
   "cell_type": "code",
   "execution_count": 15,
   "id": "f9ce33b9-b272-4902-b6cc-a8e3a7f9c319",
   "metadata": {},
   "outputs": [
    {
     "data": {
      "text/latex": [
       "$[1600805.9,~367013.46,~47665.368] \\; \\mathrm{km}$"
      ],
      "text/plain": [
       "<Quantity [1600805.86387881,  367013.45605847,   47665.36805124] km>"
      ]
     },
     "execution_count": 15,
     "metadata": {},
     "output_type": "execute_result"
    }
   ],
   "source": [
    "soho.transform_to(GeocentricSolarMagnetospheric(obstime=DATE_OBS)).cartesian.get_xyz().to(u.km)"
   ]
  },
  {
   "cell_type": "markdown",
   "id": "e8e12cc3-e81d-4235-b454-74a819ce56e1",
   "metadata": {},
   "source": [
    "### Note that `.DAT` agrees with JPL HORIZONS"
   ]
  },
  {
   "cell_type": "code",
   "execution_count": 16,
   "id": "cd921a4e-437a-466a-ae33-dfee1307e293",
   "metadata": {},
   "outputs": [
    {
     "data": {
      "text/plain": [
       "<HeliographicCarrington Coordinate (obstime=2008-02-01T20:50:00.000, rsun=695700.0 km, observer=self): (lon, lat, radius) in (deg, deg, km)\n",
       "    (261.38005539, -6.07627455, 1.45807292e+08)>"
      ]
     },
     "execution_count": 16,
     "metadata": {},
     "output_type": "execute_result"
    }
   ],
   "source": [
    "soho_hae.transform_to(HeliographicCarrington(observer='self', obstime=DATE_OBS))"
   ]
  },
  {
   "cell_type": "code",
   "execution_count": 17,
   "id": "64dd2ca6-9b41-49b7-9d66-9a19ad2fa0c7",
   "metadata": {},
   "outputs": [
    {
     "data": {
      "text/plain": [
       "<CartesianRepresentation (x, y, z) in km\n",
       "    (-21730750.76811964, -1.4335038e+08, -15434040.09594443)>"
      ]
     },
     "execution_count": 17,
     "metadata": {},
     "output_type": "execute_result"
    }
   ],
   "source": [
    "soho_hae.transform_to(HeliographicCarrington(observer='self', obstime=DATE_OBS)).cartesian"
   ]
  },
  {
   "cell_type": "code",
   "execution_count": 18,
   "id": "0db8de56-3bbd-4cfb-8066-fd4db5bb8121",
   "metadata": {},
   "outputs": [
    {
     "data": {
      "text/latex": [
       "$[-21730745,~-1.4335038 \\times 10^{8},~-15434012] \\; \\mathrm{km}$"
      ],
      "text/plain": [
       "<Quantity [-2.17307451e+07, -1.43350384e+08, -1.54340116e+07] km>"
      ]
     },
     "execution_count": 18,
     "metadata": {},
     "output_type": "execute_result"
    }
   ],
   "source": [
    "soho.transform_to(HeliographicCarrington(observer='self', obstime=DATE_OBS)).cartesian.get_xyz().to(u.km)"
   ]
  },
  {
   "cell_type": "code",
   "execution_count": 19,
   "id": "7a774815-d72c-4a30-b7aa-b69eea6e3b40",
   "metadata": {},
   "outputs": [
    {
     "data": {
      "text/plain": [
       "<SkyCoord (HeliographicCarrington: obstime=2008-02-01T20:50:00.000, rsun=695700.0 km, observer=self): (lon, lat, radius) in (deg, deg, AU)\n",
       "    (261.38005785, -6.0762633, 0.97466155)>"
      ]
     },
     "execution_count": 19,
     "metadata": {},
     "output_type": "execute_result"
    }
   ],
   "source": [
    "soho.transform_to(HeliographicCarrington(observer='self', obstime=DATE_OBS))"
   ]
  },
  {
   "cell_type": "code",
   "execution_count": 20,
   "id": "9553e224-5c62-435d-992f-37c5c832590b",
   "metadata": {},
   "outputs": [
    {
     "data": {
      "text/latex": [
       "$1.4580729 \\times 10^{8} \\; \\mathrm{km}$"
      ],
      "text/plain": [
       "<Distance 1.45807292e+08 km>"
      ]
     },
     "execution_count": 20,
     "metadata": {},
     "output_type": "execute_result"
    }
   ],
   "source": [
    "soho.transform_to(HeliographicCarrington(observer='self', obstime=DATE_OBS)).radius.to(u.km)"
   ]
  },
  {
   "cell_type": "code",
   "execution_count": 21,
   "id": "0d63b179-ec41-4745-bbdd-d399687b2b27",
   "metadata": {},
   "outputs": [
    {
     "data": {
      "text/plain": [
       "261.38005784960797"
      ]
     },
     "execution_count": 21,
     "metadata": {},
     "output_type": "execute_result"
    }
   ],
   "source": [
    "soho.transform_to(HeliographicCarrington(observer='self', obstime=DATE_OBS)).lon.value"
   ]
  },
  {
   "cell_type": "code",
   "execution_count": 22,
   "id": "846643b1-3cf6-4149-8d1b-7dadfcba3617",
   "metadata": {},
   "outputs": [
    {
     "data": {
      "text/plain": [
       "261.3800553865539"
      ]
     },
     "execution_count": 22,
     "metadata": {},
     "output_type": "execute_result"
    }
   ],
   "source": [
    "soho_hae.transform_to(HeliographicCarrington(observer='self', obstime=DATE_OBS)).lon.value"
   ]
  },
  {
   "cell_type": "code",
   "execution_count": 23,
   "id": "fe66e4fc-7182-4509-9141-9e4e19482694",
   "metadata": {},
   "outputs": [
    {
     "data": {
      "text/plain": [
       "-6.07626329936262"
      ]
     },
     "execution_count": 23,
     "metadata": {},
     "output_type": "execute_result"
    }
   ],
   "source": [
    "soho.transform_to(HeliographicCarrington(observer='self', obstime=DATE_OBS)).lat.value"
   ]
  },
  {
   "cell_type": "code",
   "execution_count": 24,
   "id": "80bccc7e-26ff-45c6-8fce-fd145d77391b",
   "metadata": {},
   "outputs": [
    {
     "data": {
      "text/plain": [
       "-6.076274552683176"
      ]
     },
     "execution_count": 24,
     "metadata": {},
     "output_type": "execute_result"
    }
   ],
   "source": [
    "soho_hae.transform_to(HeliographicCarrington(observer='self', obstime=DATE_OBS)).lat.value"
   ]
  },
  {
   "cell_type": "markdown",
   "id": "95fef973-28e9-464e-8b75-0d3ac2ae8e5b",
   "metadata": {},
   "source": [
    "### Debug output from `build_subA.c`\n",
    "\n",
    "```\n",
    "fitstime = 20:56:38.096\n",
    "fitsdate = 2008/02/01\n",
    "get_orbit.c: sdate is: 2008-02-01.8722, modified julian date is: 54497.872\n",
    "get_orbit.c: sdate is: 2008-02-01.8722, modified julian date is: 54497.872\n",
    "orbfn =/Users/butala/src/solar/prelim/tomroot/Orbits/SO_OR_PRE_20080201_V00.DAT\n",
    "orbfn =/Users/butala/src/solar/prelim/tomroot/Orbits/SO_OR_PRE_20080201_V01.DAT\n",
    "orbfn =/Users/butala/src/solar/prelim/tomroot/Orbits/SO_OR_PRE_20080201_V02.DAT\n",
    "orbfn =/Users/butala/src/solar/prelim/tomroot/Orbits/SO_OR_PRE_20080201_V03.DAT\n",
    "orbfn =/Users/butala/src/solar/prelim/tomroot/Orbits/SO_OR_PRE_20080201_V04.DAT\n",
    "local orbit file retrieved: /Users/butala/src/solar/prelim/tomroot/Orbits/SO_OR_PRE_20080201_V04.DAT\n",
    "Computed dist: 209.5837401 Rsun\n",
    "Computed dsun: 209.5837261 Rsun\n",
    "Header's dsun: 3.01640576e-07 Rsun\n",
    "\n",
    "            Sun_ob1: [-140.59, 142.673, 61.6796]\n",
    "      Rz(a) Sun_ob1: [200.302, 1.42109e-14, 61.6796]\n",
    "Ry(b) Rz(a) Sun_ob1: [209.584, 1.42109e-14, 7.10543e-15]\n",
    "        R12 Sun_ob1: [209.584, 1.24345e-14, 1.42109e-14]\n",
    "              spol2: [-0.105861, -8.32667e-17, 0.994381]\n",
    "              spol3: [-8.32667e-17, 1.38778e-17, 1]\n",
    "Polarized Brightness image.\n",
    "Polar angle: -0.10606 radians = -6.07677 deg\n",
    "     Header's Observed Latitude = 2.54639e-313 deg\n",
    "Carrington longitude: -1.7260937832 radians =  -98.8978888 deg\n",
    "COMPUTED sun_ob1:        [-140.5895916, 142.6728037, 61.67962422]\n",
    "HEADER'S J2000 sun_obs:  [nan, nan, nan]\n",
    "      Computed sun_ob3:  [-32.23499602, -205.8980153, -22.18672021]\n",
    "\n",
    "Sub-Spacecraft Latitude  computed as ATAN(sun_ob3[2]/Sqrt{sun_ob3[0]^2+sun_ob3[1]^2)}: -6.076768492 deg\n",
    "Sub-Spacecraft Longitude computed as ATAN{sun_ob3[1]/sun_ob3[0]}:                       261.1021112 deg\n",
    "```\n",
    "\n",
    "\n",
    "```\n",
    "fitstime = 20:56:38.136\n",
    "fitsdate = 2008/05/09\n",
    "get_orbit.c: sdate is: 2008-05-09.8722, modified julian date is: 54595.872\n",
    "get_orbit.c: sdate is: 2008-05-09.8722, modified julian date is: 54595.872\n",
    "orbfn =/Users/butala/src/solar/prelim/tomroot/Orbits/SO_OR_PRE_20080509_V00.DAT\n",
    "orbfn =/Users/butala/src/solar/prelim/tomroot/Orbits/SO_OR_PRE_20080509_V01.DAT\n",
    "orbfn =/Users/butala/src/solar/prelim/tomroot/Orbits/SO_OR_PRE_20080509_V02.DAT\n",
    "orbfn =/Users/butala/src/solar/prelim/tomroot/Orbits/SO_OR_PRE_20080509_V03.DAT\n",
    "orbfn =/Users/butala/src/solar/prelim/tomroot/Orbits/SO_OR_PRE_20080509_V04.DAT\n",
    "local orbit file retrieved: /Users/butala/src/solar/prelim/tomroot/Orbits/SO_OR_PRE_20080509_V04.DAT\n",
    "Computed dist: 215.3094725 Rsun\n",
    "Computed dsun: 215.3094763 Rsun\n",
    "Header's dsun: 3.092648849e-07 Rsun\n",
    "\n",
    "            Sun_ob1: [-139.694, -150.379, -65.0369]\n",
    "      Rz(a) Sun_ob1: [205.252, -2.84217e-14, -65.0369]\n",
    "Ry(b) Rz(a) Sun_ob1: [215.309, -2.84217e-14, 0]\n",
    "        R12 Sun_ob1: [215.309, -2.84217e-14, -1.42109e-14]\n",
    "              spol2: [-0.0550872, 5.55112e-17, 0.998482]\n",
    "              spol3: [-4.16334e-17, 3.46945e-17, 1]\n",
    "Polarized Brightness image.\n",
    "Polar angle: -0.0551151 radians = -3.15786 deg\n",
    "     Header's Observed Latitude = 2.54639e-313 deg\n",
    "Carrington longitude: 0.855213094513 radians =  49.0001009 deg\n",
    "COMPUTED sun_ob1:        [-139.6941935, -150.3791894, -65.03693035]\n",
    "HEADER'S J2000 sun_obs:  [nan, nan, nan]\n",
    "      Computed sun_ob3:  [141.0409499, 162.2496299, -11.86080313]\n",
    "\n",
    "Sub-Spacecraft Latitude  computed as ATAN(sun_ob3[2]/Sqrt{sun_ob3[0]^2+sun_ob3[1]^2)}: -3.157864433 deg\n",
    "Sub-Spacecraft Longitude computed as ATAN{sun_ob3[1]/sun_ob3[0]}:                       409.0001009 deg\n",
    "```\n",
    "\n",
    "```\n",
    "fitstime = 14:56:38.330\n",
    "fitsdate = 2008/03/23\n",
    "get_orbit.c: sdate is: 2008-03-23.6222, modified julian date is: 54548.622\n",
    "get_orbit.c: sdate is: 2008-03-23.6222, modified julian date is: 54548.622\n",
    "orbfn =/Users/butala/src/solar/prelim/tomroot/Orbits/SO_OR_PRE_20080323_V00.DAT\n",
    "orbfn =/Users/butala/src/solar/prelim/tomroot/Orbits/SO_OR_PRE_20080323_V01.DAT\n",
    "orbfn =/Users/butala/src/solar/prelim/tomroot/Orbits/SO_OR_PRE_20080323_V02.DAT\n",
    "orbfn =/Users/butala/src/solar/prelim/tomroot/Orbits/SO_OR_PRE_20080323_V03.DAT\n",
    "orbfn =/Users/butala/src/solar/prelim/tomroot/Orbits/SO_OR_PRE_20080323_V04.DAT\n",
    "local orbit file retrieved: /Users/butala/src/solar/prelim/tomroot/Orbits/SO_OR_PRE_20080323_V04.DAT\n",
    "Computed dist: 212.2365387 Rsun\n",
    "Computed dsun: 212.2365475 Rsun\n",
    "Header's dsun: 3.053169653e-07 Rsun\n",
    "\n",
    "            Sun_ob1: [-211.844, -11.8, -5.21511]\n",
    "      Rz(a) Sun_ob1: [212.172, 3.55271e-14, -5.21511]\n",
    "Ry(b) Rz(a) Sun_ob1: [212.237, 3.55271e-14, 0]\n",
    "        R12 Sun_ob1: [212.237, 3.28626e-14, 1.5099e-14]\n",
    "              spol2: [-0.120666, -5.55112e-17, 0.992693]\n",
    "              spol3: [-4.16334e-17, -4.16334e-17, 1]\n",
    "Polarized Brightness image.\n",
    "Polar angle: -0.120961 radians = -6.93054 deg\n",
    "     Header's Observed Latitude = 2.54639e-313 deg\n",
    "Carrington longitude: -0.818664245831 radians =  -46.9060061 deg\n",
    "COMPUTED sun_ob1:        [-211.844082, -11.79998733, -5.215105099]\n",
    "HEADER'S J2000 sun_obs:  [nan, nan, nan]\n",
    "      Computed sun_ob3:  [143.939935, -153.8498918, -25.60972451]\n",
    "\n",
    "Sub-Spacecraft Latitude  computed as ATAN(sun_ob3[2]/Sqrt{sun_ob3[0]^2+sun_ob3[1]^2)}: -6.930537962 deg\n",
    "Sub-Spacecraft Longitude computed as ATAN{sun_ob3[1]/sun_ob3[0]}:                       313.0939939 deg\n",
    "```"
   ]
  },
  {
   "cell_type": "code",
   "execution_count": 25,
   "id": "8d51106a-ab7d-4c5d-bf68-b4a10d481bc6",
   "metadata": {},
   "outputs": [
    {
     "data": {
      "text/plain": [
       "array([-97808463.  ,  99257606.1 ,  42910497.72])"
      ]
     },
     "execution_count": 25,
     "metadata": {},
     "output_type": "execute_result"
    }
   ],
   "source": [
    "np.array([-140.59, 142.673, 61.6796]) * 6.957e5\n",
    "#np.array([-139.694, -150.379, -65.0369]) * 6.957e5\n",
    "#np.array([-211.844, -11.8, -5.21511]) * 6.957e5"
   ]
  },
  {
   "cell_type": "code",
   "execution_count": 26,
   "id": "002bf4d2-7001-4d3d-a7ce-80daeba8da37",
   "metadata": {},
   "outputs": [
    {
     "data": {
      "text/plain": [
       "<CartesianRepresentation (x, y, z) in km\n",
       "    (-96734336.88844943, 1.00350532e+08, 43339784.07194095)>"
      ]
     },
     "execution_count": 26,
     "metadata": {},
     "output_type": "execute_result"
    }
   ],
   "source": [
    "soho_hae.transform_to(HCRS()).cartesian"
   ]
  },
  {
   "cell_type": "code",
   "execution_count": 27,
   "id": "3f3ba279-b8c9-4a83-aea5-001ceea40e7a",
   "metadata": {},
   "outputs": [
    {
     "data": {
      "text/plain": [
       "<CartesianRepresentation (x, y, z) in km\n",
       "    (-21730750.76811964, -1.4335038e+08, -15434040.09594443)>"
      ]
     },
     "execution_count": 27,
     "metadata": {},
     "output_type": "execute_result"
    }
   ],
   "source": [
    "soho_hae.transform_to(HeliographicCarrington(observer='self', obstime=DATE_OBS)).cartesian"
   ]
  },
  {
   "cell_type": "code",
   "execution_count": 28,
   "id": "be189e7a-3279-4a11-b3fc-e6a3221d6ac3",
   "metadata": {},
   "outputs": [
    {
     "data": {
      "text/plain": [
       "array([-2.24258867e+07, -1.43243249e+08, -1.54353013e+07])"
      ]
     },
     "execution_count": 28,
     "metadata": {},
     "output_type": "execute_result"
    }
   ],
   "source": [
    "np.array([-32.23499602, -205.8980153, -22.18672021]) * 6.957e5\n",
    "#np.array([141.0409499, 162.2496299, -11.86080313]) * 6.957e5\n",
    "#np.array([143.939935, -153.8498918, -25.60972451]) * 6.957e5"
   ]
  },
  {
   "cell_type": "code",
   "execution_count": 29,
   "id": "59baae76-b0d1-4317-afbe-b7d0e4f4f5e4",
   "metadata": {},
   "outputs": [
    {
     "data": {
      "text/plain": [
       "<HeliographicCarrington Coordinate (obstime=2008-02-01T20:50:00.000, rsun=695700.0 km, observer=self): (lon, lat, radius) in (deg, deg, km)\n",
       "    (261.38005539, -6.07627455, 1.45807292e+08)>"
      ]
     },
     "execution_count": 29,
     "metadata": {},
     "output_type": "execute_result"
    }
   ],
   "source": [
    "soho_hae.transform_to(HeliographicCarrington(observer='self', obstime=DATE_OBS))"
   ]
  },
  {
   "cell_type": "code",
   "execution_count": 30,
   "id": "61a9e637-6088-4e6e-952b-7ab0f0ce1434",
   "metadata": {},
   "outputs": [
    {
     "data": {
      "text/plain": [
       "<HeliographicCarrington Coordinate (obstime=None, rsun=695700.0 km, observer=None): (x, y, z) in km\n",
       "    (-22425886.7, -1.43243249e+08, -15435301.3)>"
      ]
     },
     "execution_count": 30,
     "metadata": {},
     "output_type": "execute_result"
    }
   ],
   "source": [
    "HeliographicCarrington(x=-2.24258867e+07*u.km, y=-1.43243249e+08*u.km, z=-1.54353013e+07*u.km, representation_type='cartesian')\n",
    "#HeliographicCarrington(x=9.81221888e+07*u.km, y=1.12877068e+08*u.km, z=-8.25156074e+06*u.km, representation_type='cartesian')\n",
    "#HeliographicCarrington(x=1.00139013e+08*u.km, y=-1.07033370e+08*u.km, z=-1.78166853e+07*u.km, representation_type='cartesian')"
   ]
  },
  {
   "cell_type": "code",
   "execution_count": 31,
   "id": "70635639-2863-4666-9843-43f89f838826",
   "metadata": {},
   "outputs": [
    {
     "data": {
      "text/plain": [
       "<SphericalRepresentation (lon, lat, distance) in (deg, deg, km)\n",
       "    (261.10211118, -6.07676852, 1.45807398e+08)>"
      ]
     },
     "execution_count": 31,
     "metadata": {},
     "output_type": "execute_result"
    }
   ],
   "source": [
    "HeliographicCarrington(x=-2.24258867e+07*u.km, y=-1.43243249e+08*u.km, z=-1.54353013e+07*u.km, representation_type='cartesian').spherical\n",
    "#HeliographicCarrington(x=9.81221888e+07*u.km, y=1.12877068e+08*u.km, z=-8.25156074e+06*u.km, representation_type='cartesian').spherical\n",
    "#HeliographicCarrington(x=1.00139013e+08*u.km, y=-1.07033370e+08*u.km, z=-1.78166853e+07*u.km, representation_type='cartesian').spherical"
   ]
  }
 ],
 "metadata": {
  "kernelspec": {
   "display_name": "Python 3 (ipykernel)",
   "language": "python",
   "name": "python3"
  },
  "language_info": {
   "codemirror_mode": {
    "name": "ipython",
    "version": 3
   },
   "file_extension": ".py",
   "mimetype": "text/x-python",
   "name": "python",
   "nbconvert_exporter": "python",
   "pygments_lexer": "ipython3",
   "version": "3.12.2"
  }
 },
 "nbformat": 4,
 "nbformat_minor": 5
}
