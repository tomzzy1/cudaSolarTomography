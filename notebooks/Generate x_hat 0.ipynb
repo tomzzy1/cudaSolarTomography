{
 "cells": [
  {
   "cell_type": "code",
   "execution_count": 1,
   "id": "9d2f885e-044a-480b-9175-aa6660d2349a",
   "metadata": {},
   "outputs": [],
   "source": [
    "from pathlib import Path\n",
    "\n",
    "import numpy as np"
   ]
  },
  {
   "cell_type": "code",
   "execution_count": 2,
   "id": "5dd88627-c39a-4a15-b890-f200bafd0e1b",
   "metadata": {},
   "outputs": [],
   "source": [
    "NRAD = 20\n",
    "NTHETA = 30\n",
    "NPHI = 60\n",
    "\n",
    "TOMROOT = Path('/Users/butala/Documents/research/zheyuan/tomroot/')"
   ]
  },
  {
   "cell_type": "code",
   "execution_count": 3,
   "id": "dec0ac0d-d283-4601-967b-ed17bd1f62f4",
   "metadata": {},
   "outputs": [],
   "source": [
    "x_hat0 = np.zeros(NRAD * NTHETA * NPHI, dtype=np.float32)"
   ]
  },
  {
   "cell_type": "code",
   "execution_count": 4,
   "id": "a7f51b59-7cb1-48cd-923b-f7dc091876d3",
   "metadata": {},
   "outputs": [],
   "source": [
    "x_hat0.tofile(TOMROOT / 'bindata' / f'x_zero_{NRAD}_{NTHETA}_{NPHI}')"
   ]
  }
 ],
 "metadata": {
  "kernelspec": {
   "display_name": "Python 3 (ipykernel)",
   "language": "python",
   "name": "python3"
  },
  "language_info": {
   "codemirror_mode": {
    "name": "ipython",
    "version": 3
   },
   "file_extension": ".py",
   "mimetype": "text/x-python",
   "name": "python",
   "nbconvert_exporter": "python",
   "pygments_lexer": "ipython3",
   "version": "3.11.6"
  }
 },
 "nbformat": 4,
 "nbformat_minor": 5
}
